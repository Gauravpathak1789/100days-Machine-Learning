{
  "nbformat": 4,
  "nbformat_minor": 0,
  "metadata": {
    "colab": {
      "provenance": []
    },
    "kernelspec": {
      "name": "python3",
      "display_name": "Python 3"
    },
    "language_info": {
      "name": "python"
    }
  },
  "cells": [
    {
      "cell_type": "code",
      "execution_count": 1,
      "metadata": {
        "id": "cwKCp7zgBopo"
      },
      "outputs": [],
      "source": [
        "import numpy as np\n",
        "import pandas as pd\n",
        "from sklearn.datasets import load_diabetes"
      ]
    },
    {
      "cell_type": "code",
      "source": [
        "X,Y=load_diabetes(return_X_y=True)"
      ],
      "metadata": {
        "id": "qqbZyBhyB9Dt"
      },
      "execution_count": 2,
      "outputs": []
    },
    {
      "cell_type": "code",
      "source": [
        "X"
      ],
      "metadata": {
        "colab": {
          "base_uri": "https://localhost:8080/"
        },
        "id": "RGUKOv9mCHVM",
        "outputId": "af6dbb52-f2e3-48f6-bade-7b3e1cb14487"
      },
      "execution_count": 3,
      "outputs": [
        {
          "output_type": "execute_result",
          "data": {
            "text/plain": [
              "array([[ 0.03807591,  0.05068012,  0.06169621, ..., -0.00259226,\n",
              "         0.01990749, -0.01764613],\n",
              "       [-0.00188202, -0.04464164, -0.05147406, ..., -0.03949338,\n",
              "        -0.06833155, -0.09220405],\n",
              "       [ 0.08529891,  0.05068012,  0.04445121, ..., -0.00259226,\n",
              "         0.00286131, -0.02593034],\n",
              "       ...,\n",
              "       [ 0.04170844,  0.05068012, -0.01590626, ..., -0.01107952,\n",
              "        -0.04688253,  0.01549073],\n",
              "       [-0.04547248, -0.04464164,  0.03906215, ...,  0.02655962,\n",
              "         0.04452873, -0.02593034],\n",
              "       [-0.04547248, -0.04464164, -0.0730303 , ..., -0.03949338,\n",
              "        -0.00422151,  0.00306441]])"
            ]
          },
          "metadata": {},
          "execution_count": 3
        }
      ]
    },
    {
      "cell_type": "code",
      "source": [
        "X.shape,Y.shape"
      ],
      "metadata": {
        "colab": {
          "base_uri": "https://localhost:8080/"
        },
        "id": "_XYven4JCNLZ",
        "outputId": "4eeabf51-72c1-4f0c-f76c-d683fab61e97"
      },
      "execution_count": 5,
      "outputs": [
        {
          "output_type": "execute_result",
          "data": {
            "text/plain": [
              "((442, 10), (442,))"
            ]
          },
          "metadata": {},
          "execution_count": 5
        }
      ]
    },
    {
      "cell_type": "markdown",
      "source": [
        "# Using SKLEARN'S LINEAR REGRESSION-"
      ],
      "metadata": {
        "id": "3RRDOjP8ChMf"
      }
    },
    {
      "cell_type": "code",
      "source": [
        "from sklearn.model_selection import train_test_split\n",
        "x_train,x_test,y_train,y_test=train_test_split(X,Y,test_size=0.2,random_state=2)"
      ],
      "metadata": {
        "id": "Orq0a4W5Cq8q"
      },
      "execution_count": 7,
      "outputs": []
    },
    {
      "cell_type": "code",
      "source": [
        "x_train.shape,x_test.shape"
      ],
      "metadata": {
        "colab": {
          "base_uri": "https://localhost:8080/"
        },
        "id": "ZGVB_tsyDZXp",
        "outputId": "c055970d-5470-4dcb-8e00-1c7b3f3aac5a"
      },
      "execution_count": 9,
      "outputs": [
        {
          "output_type": "execute_result",
          "data": {
            "text/plain": [
              "((353, 10), (89, 10))"
            ]
          },
          "metadata": {},
          "execution_count": 9
        }
      ]
    },
    {
      "cell_type": "code",
      "source": [
        "from sklearn.linear_model import LinearRegression\n",
        "lr=LinearRegression()"
      ],
      "metadata": {
        "id": "SNt1VJ9wDes7"
      },
      "execution_count": 10,
      "outputs": []
    },
    {
      "cell_type": "code",
      "source": [
        "lr.fit(x_train,y_train)\n",
        "y_pred=lr.predict(x_test)"
      ],
      "metadata": {
        "id": "Xw5DDeQVDr0W"
      },
      "execution_count": 11,
      "outputs": []
    },
    {
      "cell_type": "code",
      "source": [
        "from sklearn.metrics import r2_score\n",
        "r2_score(y_test,y_pred)"
      ],
      "metadata": {
        "colab": {
          "base_uri": "https://localhost:8080/"
        },
        "id": "JoZcj2RSDxCf",
        "outputId": "dea599eb-0803-4eb3-b48e-9ba57ffb321a"
      },
      "execution_count": 12,
      "outputs": [
        {
          "output_type": "execute_result",
          "data": {
            "text/plain": [
              "0.4399338661568968"
            ]
          },
          "metadata": {},
          "execution_count": 12
        }
      ]
    },
    {
      "cell_type": "code",
      "source": [
        "lr.coef_"
      ],
      "metadata": {
        "colab": {
          "base_uri": "https://localhost:8080/"
        },
        "id": "2d3W-a_nD8P9",
        "outputId": "f44f6dd2-1a66-4c46-9413-756aa6e0b595"
      },
      "execution_count": 13,
      "outputs": [
        {
          "output_type": "execute_result",
          "data": {
            "text/plain": [
              "array([  -9.15865318, -205.45432163,  516.69374454,  340.61999905,\n",
              "       -895.5520019 ,  561.22067904,  153.89310954,  126.73139688,\n",
              "        861.12700152,   52.42112238])"
            ]
          },
          "metadata": {},
          "execution_count": 13
        }
      ]
    },
    {
      "cell_type": "code",
      "source": [
        "lr.intercept_"
      ],
      "metadata": {
        "colab": {
          "base_uri": "https://localhost:8080/"
        },
        "id": "VpuBfO4KECjM",
        "outputId": "a948c0cb-d0f7-4e4d-9c1f-d74aff9390a7"
      },
      "execution_count": 14,
      "outputs": [
        {
          "output_type": "execute_result",
          "data": {
            "text/plain": [
              "151.88331005254167"
            ]
          },
          "metadata": {},
          "execution_count": 14
        }
      ]
    },
    {
      "cell_type": "markdown",
      "source": [
        "# Making Our Own Regression Class"
      ],
      "metadata": {
        "id": "NN7D1bIOEQZC"
      }
    },
    {
      "cell_type": "code",
      "source": [
        "class linearregr:\n",
        "    def __init__(self):\n",
        "      self.coef=None\n",
        "      self.intercept=None\n",
        "\n",
        "    def Fit(self,X_train,Y_train):\n",
        "      X_train=np.insert(X_train,0,1,axis=1)\n",
        "      #calculate the coefficient\n",
        "      betas=np.linalg.inv(np.dot(X_train.T,X_train)).dot(X_train.T).dot(Y_train)\n",
        "      self.intercept=betas[0]\n",
        "      self.coef=betas[1:]\n",
        "\n",
        "    def Predict(self,x_test):\n",
        "      y_pred=np.dot(x_test,self.coef)+self.intercept\n",
        "      return y_pred"
      ],
      "metadata": {
        "id": "ceTpeOUPEZdc"
      },
      "execution_count": 23,
      "outputs": []
    },
    {
      "cell_type": "code",
      "source": [
        "reg=linearregr()"
      ],
      "metadata": {
        "id": "L-MukPUTE87E"
      },
      "execution_count": 24,
      "outputs": []
    },
    {
      "cell_type": "code",
      "source": [
        "reg.Fit(x_train,y_train)"
      ],
      "metadata": {
        "id": "r0Q0OFg1FECI"
      },
      "execution_count": 25,
      "outputs": []
    },
    {
      "cell_type": "code",
      "source": [
        "reg.Predict(x_test)"
      ],
      "metadata": {
        "colab": {
          "base_uri": "https://localhost:8080/"
        },
        "id": "_IpaCl5qFF13",
        "outputId": "8e40439b-3193-4150-e8d3-5ff50a38ff50"
      },
      "execution_count": 26,
      "outputs": [
        {
          "output_type": "execute_result",
          "data": {
            "text/plain": [
              "array([154.1213881 , 204.81835118, 124.93755353, 106.08950893,\n",
              "       258.5348576 , 256.3310074 , 118.75087616, 119.52440696,\n",
              "       101.50816735, 190.54048661, 141.70656811, 172.51883961,\n",
              "       174.33861649, 134.80942706, 294.13994537,  94.11798038,\n",
              "       211.97059795, 156.49579378, 134.21000428, 119.62664644,\n",
              "       148.87842251, 165.00873409, 151.10021038, 176.04063756,\n",
              "       133.27769647, 221.29555392, 197.17324941,  96.1577688 ,\n",
              "        50.26012711, 230.48580317, 242.06073866, 114.11129218,\n",
              "        67.07532417,  94.52943825, 201.21415375, 167.05136201,\n",
              "       159.881268  , 192.78746659, 114.49551325, 233.48234551,\n",
              "       140.82563045, 121.0680409 , 192.27480772, 191.12738845,\n",
              "       179.16865788, 148.34935601, 163.47414622, 276.81647884,\n",
              "       100.17926432, 164.10555298, 255.80762189, 136.9466204 ,\n",
              "       152.37503699, 107.92237882, 194.21924678,  77.34670792,\n",
              "       118.50482479,  68.38335763, 154.29258529, 162.48840259,\n",
              "       168.36788326, 156.87790322,  97.14191797, 238.1671215 ,\n",
              "       145.46179904, 117.65702433, 168.88784311, 198.38683887,\n",
              "       118.24053714, 124.64552812, 223.17700368, 200.63012386,\n",
              "       129.54414666, 158.1584765 , 154.332565  , 114.47070769,\n",
              "        70.44906407,  76.3973879 , 172.41584591,  80.56270077,\n",
              "        80.2722834 ,  89.46150248, 186.21572052, 275.46275403,\n",
              "       208.26784222, 143.79451509, 291.28766846, 206.32474844,\n",
              "        94.22935404])"
            ]
          },
          "metadata": {},
          "execution_count": 26
        }
      ]
    },
    {
      "cell_type": "code",
      "source": [
        "reg.coef"
      ],
      "metadata": {
        "colab": {
          "base_uri": "https://localhost:8080/"
        },
        "id": "zlss8kdtHkJq",
        "outputId": "6f32b63e-8484-4eb3-eb2f-e79bba922c1d"
      },
      "execution_count": 27,
      "outputs": [
        {
          "output_type": "execute_result",
          "data": {
            "text/plain": [
              "array([  -9.15865318, -205.45432163,  516.69374454,  340.61999905,\n",
              "       -895.5520019 ,  561.22067904,  153.89310954,  126.73139688,\n",
              "        861.12700152,   52.42112238])"
            ]
          },
          "metadata": {},
          "execution_count": 27
        }
      ]
    },
    {
      "cell_type": "code",
      "source": [
        "reg.intercept"
      ],
      "metadata": {
        "colab": {
          "base_uri": "https://localhost:8080/"
        },
        "id": "h_BGTc0eH5FL",
        "outputId": "e0e440e4-fc93-42c0-8e2c-29d7c7f38651"
      },
      "execution_count": 28,
      "outputs": [
        {
          "output_type": "execute_result",
          "data": {
            "text/plain": [
              "151.88331005254165"
            ]
          },
          "metadata": {},
          "execution_count": 28
        }
      ]
    },
    {
      "cell_type": "code",
      "source": [],
      "metadata": {
        "id": "AbX8APW2IBJo"
      },
      "execution_count": null,
      "outputs": []
    }
  ]
}